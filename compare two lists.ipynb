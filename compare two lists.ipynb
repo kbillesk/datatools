{
 "cells": [
  {
   "cell_type": "markdown",
   "id": "8b96a7df",
   "metadata": {},
   "source": [
    "This script takes two lists in csv files as input and produces a list of items that are common among the two lists. If the lists are identical, the script will write this. If the lists have no overlaps it will also output this.\n",
    "It can take csv files with multiple columns and will compare the row by row."
   ]
  },
  {
   "cell_type": "code",
   "execution_count": 27,
   "id": "1545300f",
   "metadata": {
    "scrolled": false
   },
   "outputs": [
    {
     "name": "stdout",
     "output_type": "stream",
     "text": [
      "write path to first list / csv with multiple columnsCPR/cpr-pmatch02.csv\n",
      "write path to second list / csv with multiple columnsCPR/cpr-pmatch02-test.csv\n",
      "write path and name for desired outputfile with common itemsCPR/cpr-pmatch02-common.csv\n",
      "hello\n",
      "CPR/cpr-pmatch02.csv 1022\n",
      "CPR/cpr-pmatch02-test.csv 1022\n",
      "Common items 1020\n"
     ]
    }
   ],
   "source": [
    "import csv\n",
    "from collections import Counter\n",
    "\n",
    "def read_csv(file_path):\n",
    "    with open(file_path, 'r') as file:\n",
    "        reader = csv.reader(file)\n",
    "        return list(reader)\n",
    "\n",
    "def remove_duplicates(mylist):\n",
    "    #set_list = set(mylist)\n",
    "    uniquelist = []\n",
    "    for x in mylist:\n",
    "        if x not in uniquelist:\n",
    "            uniquelist.append(x)\n",
    "    #unique_list = list(set_list)\n",
    "    return uniquelist\n",
    "    \n",
    "def find_common_items(file1, file2):\n",
    "    list1 = read_csv(file1)\n",
    "    list2 = read_csv(file2)\n",
    "    print(file1_path,len(list1))\n",
    "    print(file2_path,len(list2))\n",
    "    if sorted(list1) == sorted(list2):\n",
    "        common_items = list1\n",
    "        print(\"lists are identical\")\n",
    "    else:\n",
    "        common_items = [item for item in list1 if item in list2]\n",
    "    if len(common_items) == 0: print(\"The two lists have no common items\")\n",
    "    return common_items\n",
    "\n",
    "# Example usage\n",
    "file1_path = input(\"write path to first list / csv with multiple columns\")\n",
    "file2_path = input(\"write path to second list / csv with multiple columns\")\n",
    "outputfile = input(\"write path and name for desired outputfile with common items\")\n",
    "\n",
    "print(\"hello\")\n",
    "common_items = find_common_items(file1_path, file2_path)\n",
    "unique_items = remove_duplicates(common_items)\n",
    "print(\"Common items\", len(unique_items))\n",
    "f = open(outputfile, \"w\", encoding=('utf8'))\n",
    "spamwriter = csv.writer(f, delimiter=',',quotechar='\"', quoting=csv.QUOTE_MINIMAL)\n",
    "for item in unique_items:\n",
    "    spamwriter.writerow(item)\n",
    "f.close()"
   ]
  },
  {
   "cell_type": "code",
   "execution_count": null,
   "id": "d342e288",
   "metadata": {},
   "outputs": [],
   "source": []
  },
  {
   "cell_type": "code",
   "execution_count": null,
   "id": "7c11714b",
   "metadata": {},
   "outputs": [],
   "source": []
  }
 ],
 "metadata": {
  "kernelspec": {
   "display_name": "Python 3 (ipykernel)",
   "language": "python",
   "name": "python3"
  },
  "language_info": {
   "codemirror_mode": {
    "name": "ipython",
    "version": 3
   },
   "file_extension": ".py",
   "mimetype": "text/x-python",
   "name": "python",
   "nbconvert_exporter": "python",
   "pygments_lexer": "ipython3",
   "version": "3.9.18"
  }
 },
 "nbformat": 4,
 "nbformat_minor": 5
}
